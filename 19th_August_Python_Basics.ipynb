{
  "cells": [
    {
      "cell_type": "code",
      "execution_count": null,
      "id": "8f84edc7-0a21-4a84-bae7-9fc8df56a6ce",
      "metadata": {
        "id": "8f84edc7-0a21-4a84-bae7-9fc8df56a6ce",
        "outputId": "14ffee70-fbc2-40f3-fb49-341bfb765da8"
      },
      "outputs": [
        {
          "name": "stdout",
          "output_type": "stream",
          "text": [
            "7 10\n",
            "10 7\n"
          ]
        }
      ],
      "source": [
        "#Topic: python basic variables\n",
        "\n",
        "#question 1, swap values\n",
        "\n",
        "x = 7\n",
        "y = 10\n",
        "print(x,y)\n",
        "x,y = y,x\n",
        "print(x,y)"
      ]
    },
    {
      "cell_type": "code",
      "execution_count": null,
      "id": "2345d025-122f-44fb-949e-6f00d21a373d",
      "metadata": {
        "id": "2345d025-122f-44fb-949e-6f00d21a373d",
        "outputId": "50b6e97f-b29a-4a7d-fbf4-a71afcda25c3"
      },
      "outputs": [
        {
          "name": "stdin",
          "output_type": "stream",
          "text": [
            "enter length:  10\n",
            "enter breadth:  4\n"
          ]
        },
        {
          "name": "stdout",
          "output_type": "stream",
          "text": [
            "area is  40\n"
          ]
        }
      ],
      "source": [
        "#question 2, calculate area of rectangle\n",
        "\n",
        "length = int(input(\"enter length: \"))\n",
        "breadth = int(input(\"enter breadth: \"))\n",
        "area = length*breadth\n",
        "print(\"area is \",area)"
      ]
    },
    {
      "cell_type": "code",
      "execution_count": null,
      "id": "dea206d3-539f-4520-a153-c96ee2de7afd",
      "metadata": {
        "id": "dea206d3-539f-4520-a153-c96ee2de7afd",
        "outputId": "0db84a76-4a4b-4073-d840-a372b2bdefd4"
      },
      "outputs": [
        {
          "name": "stdin",
          "output_type": "stream",
          "text": [
            "enter temperature in celsius:  32\n"
          ]
        },
        {
          "name": "stdout",
          "output_type": "stream",
          "text": [
            "temperature in fahrenheit  89.6\n"
          ]
        }
      ],
      "source": [
        "#question 3, convert Celsius to Fahrenheit\n",
        "\n",
        "celsius = float(input(\"enter temperature in celsius: \"))\n",
        "fahrenheit = (celsius * 9/5) + 32\n",
        "print(\"temperature in fahrenheit \", fahrenheit)"
      ]
    },
    {
      "cell_type": "code",
      "execution_count": null,
      "id": "23494624-bb08-497d-b585-a585ba825a1b",
      "metadata": {
        "id": "23494624-bb08-497d-b585-a585ba825a1b",
        "outputId": "5a118881-699b-44fe-8f1b-12ab09fdb7fc"
      },
      "outputs": [
        {
          "name": "stdin",
          "output_type": "stream",
          "text": [
            " Ramanujan\n"
          ]
        },
        {
          "name": "stdout",
          "output_type": "stream",
          "text": [
            "length of the string is  9\n"
          ]
        }
      ],
      "source": [
        "#TOPIC: String based questions\n",
        "\n",
        "#question 1, returning length of string\n",
        "\n",
        "name = input()\n",
        "print(\"length of the string is \", len(name))"
      ]
    },
    {
      "cell_type": "code",
      "execution_count": null,
      "id": "5cba6772-9b5b-40dd-9b6d-b14c66c539b8",
      "metadata": {
        "id": "5cba6772-9b5b-40dd-9b6d-b14c66c539b8",
        "outputId": "47d51ef9-e257-4be3-8cb8-058662925b77"
      },
      "outputs": [
        {
          "name": "stdin",
          "output_type": "stream",
          "text": [
            "please enter your sentence:  how are you\n"
          ]
        },
        {
          "name": "stdout",
          "output_type": "stream",
          "text": [
            "number of vowels in sentence is  5\n"
          ]
        }
      ],
      "source": [
        "#question 2, print number of vowels\n",
        "\n",
        "sentence = input(\"please enter your sentence: \")\n",
        "\n",
        "vowels = \"aeiou\"\n",
        "\n",
        "count = 0\n",
        "\n",
        "for char in sentence:\n",
        "    if char.lower() in vowels:\n",
        "        count+=1\n",
        "\n",
        "print(\"number of vowels in sentence is \", count)"
      ]
    },
    {
      "cell_type": "code",
      "execution_count": null,
      "id": "72bcaec0-2a36-4f84-82d7-b4bbf46fe0da",
      "metadata": {
        "id": "72bcaec0-2a36-4f84-82d7-b4bbf46fe0da",
        "outputId": "414634d0-6856-439c-f2bc-948ef3004c2e"
      },
      "outputs": [
        {
          "name": "stdin",
          "output_type": "stream",
          "text": [
            "please enter a string:  lemon\n"
          ]
        },
        {
          "name": "stdout",
          "output_type": "stream",
          "text": [
            "reversed string is  nomel\n"
          ]
        }
      ],
      "source": [
        "#question 3, reversed string\n",
        "\n",
        "string = input(\"please enter a string: \")\n",
        "print(\"reversed string is \", string[::-1])\n"
      ]
    },
    {
      "cell_type": "code",
      "execution_count": null,
      "id": "95c3fc62-ca81-44db-8105-e2631f75c028",
      "metadata": {
        "id": "95c3fc62-ca81-44db-8105-e2631f75c028",
        "outputId": "fcf23bb7-f676-467a-def2-0d5f5ebef70d"
      },
      "outputs": [
        {
          "name": "stdin",
          "output_type": "stream",
          "text": [
            " ullu\n"
          ]
        },
        {
          "name": "stdout",
          "output_type": "stream",
          "text": [
            "True\n"
          ]
        }
      ],
      "source": [
        "#question 4, checking palindrome\n",
        "\n",
        "string = input()\n",
        "print(string == string[::-1])\n",
        ""
      ]
    },
    {
      "cell_type": "code",
      "execution_count": null,
      "id": "64a36a62-d363-412e-be62-1dcac9d0fc00",
      "metadata": {
        "id": "64a36a62-d363-412e-be62-1dcac9d0fc00"
      },
      "outputs": [],
      "source": [
        "#question 5, remove spaces\n",
        "\n",
        "string = input(\"please enter a string: \")\n",
        "new_string = ''.join(string.split())"
      ]
    }
  ],
  "metadata": {
    "kernelspec": {
      "display_name": "Python 3 (ipykernel)",
      "language": "python",
      "name": "python3"
    },
    "language_info": {
      "codemirror_mode": {
        "name": "ipython",
        "version": 3
      },
      "file_extension": ".py",
      "mimetype": "text/x-python",
      "name": "python",
      "nbconvert_exporter": "python",
      "pygments_lexer": "ipython3",
      "version": "3.10.8"
    },
    "colab": {
      "provenance": []
    }
  },
  "nbformat": 4,
  "nbformat_minor": 5
}